{
 "cells": [
  {
   "cell_type": "markdown",
   "id": "dfc77d7b",
   "metadata": {},
   "source": [
    "OOPS(Object Oriented Programming)"
   ]
  },
  {
   "cell_type": "markdown",
   "id": "e5584c95",
   "metadata": {},
   "source": [
    "OOP is programming Paradigm."
   ]
  },
  {
   "cell_type": "markdown",
   "id": "4cf9d1b8",
   "metadata": {},
   "source": [
    "The way we talk to others is a very Object Oriented Way"
   ]
  },
  {
   "cell_type": "markdown",
   "id": "62047cee",
   "metadata": {},
   "source": [
    "batch.giveAdmission(student)"
   ]
  },
  {
   "cell_type": "markdown",
   "id": "e4cae646",
   "metadata": {},
   "source": [
    "In case of Object oriented Programming there are two main concepts that we will be\n",
    "using everywhere\n",
    "\n",
    "Classes and Objects"
   ]
  },
  {
   "cell_type": "markdown",
   "id": "b7892e4d",
   "metadata": {},
   "source": [
    "Object - Batch and Student\n",
    "\n",
    "Batch - Batch DS, Batch ML, Batch Python and so there might be having lot of batches\n",
    "and these batches will be having lot of Students.\n",
    "\n",
    "Similarly, Students - Each student will have name, rollno and so on. So, Students \n",
    "will be similar as well."
   ]
  },
  {
   "cell_type": "code",
   "execution_count": null,
   "id": "8e5b15d3",
   "metadata": {},
   "outputs": [],
   "source": [
    "Batch Python\n",
    "\n",
    "Start date\n",
    "take admission\n",
    "end date\n",
    ".\n",
    ".\n",
    ".\n",
    ".\n",
    "\n"
   ]
  },
  {
   "cell_type": "code",
   "execution_count": null,
   "id": "b1bab0a6",
   "metadata": {},
   "outputs": [],
   "source": [
    "When i will create another batch ML, i will repeat all these\n",
    "\n",
    "Batch ML\n",
    "\n",
    "Start date\n",
    "take admission\n",
    "end date\n",
    ".\n",
    ".\n",
    ".\n",
    ".\n"
   ]
  },
  {
   "cell_type": "markdown",
   "id": "13a9c98c",
   "metadata": {},
   "source": [
    "Class is basically the template or blueprint"
   ]
  },
  {
   "cell_type": "markdown",
   "id": "e5752b6e",
   "metadata": {},
   "source": [
    "The problem is everytime i create a Batch i will have to mention what all attributes\n",
    "it have, what all data it should have, or what all functionality it should have.\n",
    "\n",
    "\n",
    "I don't want to do that.\n",
    "\n",
    "what i want is i define it once that how does a batch looks like, what are the \n",
    "properties of a batch, what are the functionalities of a Batch. Once i have done that\n",
    "i don't want to repeat everytime i want to create a new Batch.\n"
   ]
  },
  {
   "cell_type": "markdown",
   "id": "163e08ba",
   "metadata": {},
   "source": [
    "class -> template -> which will tell us what kind of data, what kind of functionality\n",
    "such objects should have.\n",
    "\n",
    "Object -> an instance of this class\n",
    "\n",
    "So, Whenever in our code we need object we need to find a way to create an instance \n",
    "of this class"
   ]
  }
 ],
 "metadata": {
  "kernelspec": {
   "display_name": "Python 3 (ipykernel)",
   "language": "python",
   "name": "python3"
  },
  "language_info": {
   "codemirror_mode": {
    "name": "ipython",
    "version": 3
   },
   "file_extension": ".py",
   "mimetype": "text/x-python",
   "name": "python",
   "nbconvert_exporter": "python",
   "pygments_lexer": "ipython3",
   "version": "3.11.4"
  }
 },
 "nbformat": 4,
 "nbformat_minor": 5
}
